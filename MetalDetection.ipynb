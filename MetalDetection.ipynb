{
  "nbformat": 4,
  "nbformat_minor": 0,
  "metadata": {
    "colab": {
      "name": "MetalDetection.ipynb",
      "provenance": [],
      "collapsed_sections": []
    },
    "kernelspec": {
      "display_name": "Python 3",
      "name": "python3"
    },
    "language_info": {
      "name": "python"
    }
  },
  "cells": [
    {
      "cell_type": "code",
      "metadata": {
        "id": "dflYMMCDKaEn"
      },
      "source": [
        "import tensorflow as tf\n",
        "import pandas as pd\n",
        "import numpy as np\n",
        "import matplotlib.pyplot as plt\n",
        "import cv2"
      ],
      "execution_count": 1,
      "outputs": []
    },
    {
      "cell_type": "code",
      "metadata": {
        "colab": {
          "base_uri": "https://localhost:8080/",
          "height": 416
        },
        "id": "b1OW9XTlKho4",
        "outputId": "3e26f557-60ac-4042-898d-1c7d0e56d4f3"
      },
      "source": [
        "df = pd.read_csv('/content/drive/MyDrive/Data_Metal/train.csv')\n",
        "df"
      ],
      "execution_count": 2,
      "outputs": [
        {
          "output_type": "execute_result",
          "data": {
            "text/html": [
              "<div>\n",
              "<style scoped>\n",
              "    .dataframe tbody tr th:only-of-type {\n",
              "        vertical-align: middle;\n",
              "    }\n",
              "\n",
              "    .dataframe tbody tr th {\n",
              "        vertical-align: top;\n",
              "    }\n",
              "\n",
              "    .dataframe thead th {\n",
              "        text-align: right;\n",
              "    }\n",
              "</style>\n",
              "<table border=\"1\" class=\"dataframe\">\n",
              "  <thead>\n",
              "    <tr style=\"text-align: right;\">\n",
              "      <th></th>\n",
              "      <th>ImageId</th>\n",
              "      <th>ClassId</th>\n",
              "      <th>EncodedPixels</th>\n",
              "    </tr>\n",
              "  </thead>\n",
              "  <tbody>\n",
              "    <tr>\n",
              "      <th>0</th>\n",
              "      <td>0002cc93b.jpg</td>\n",
              "      <td>1</td>\n",
              "      <td>29102 12 29346 24 29602 24 29858 24 30114 24 3...</td>\n",
              "    </tr>\n",
              "    <tr>\n",
              "      <th>1</th>\n",
              "      <td>0007a71bf.jpg</td>\n",
              "      <td>3</td>\n",
              "      <td>18661 28 18863 82 19091 110 19347 110 19603 11...</td>\n",
              "    </tr>\n",
              "    <tr>\n",
              "      <th>2</th>\n",
              "      <td>000a4bcdd.jpg</td>\n",
              "      <td>1</td>\n",
              "      <td>37607 3 37858 8 38108 14 38359 20 38610 25 388...</td>\n",
              "    </tr>\n",
              "    <tr>\n",
              "      <th>3</th>\n",
              "      <td>000f6bf48.jpg</td>\n",
              "      <td>4</td>\n",
              "      <td>131973 1 132228 4 132483 6 132738 8 132993 11 ...</td>\n",
              "    </tr>\n",
              "    <tr>\n",
              "      <th>4</th>\n",
              "      <td>0014fce06.jpg</td>\n",
              "      <td>3</td>\n",
              "      <td>229501 11 229741 33 229981 55 230221 77 230468...</td>\n",
              "    </tr>\n",
              "    <tr>\n",
              "      <th>...</th>\n",
              "      <td>...</td>\n",
              "      <td>...</td>\n",
              "      <td>...</td>\n",
              "    </tr>\n",
              "    <tr>\n",
              "      <th>7090</th>\n",
              "      <td>ffcf72ecf.jpg</td>\n",
              "      <td>3</td>\n",
              "      <td>121911 34 122167 101 122422 169 122678 203 122...</td>\n",
              "    </tr>\n",
              "    <tr>\n",
              "      <th>7091</th>\n",
              "      <td>fff02e9c5.jpg</td>\n",
              "      <td>3</td>\n",
              "      <td>207523 3 207777 9 208030 15 208283 22 208537 2...</td>\n",
              "    </tr>\n",
              "    <tr>\n",
              "      <th>7092</th>\n",
              "      <td>fffe98443.jpg</td>\n",
              "      <td>3</td>\n",
              "      <td>105929 5 106177 14 106424 24 106672 33 106923 ...</td>\n",
              "    </tr>\n",
              "    <tr>\n",
              "      <th>7093</th>\n",
              "      <td>ffff4eaa8.jpg</td>\n",
              "      <td>3</td>\n",
              "      <td>16899 7 17155 20 17411 34 17667 47 17923 60 18...</td>\n",
              "    </tr>\n",
              "    <tr>\n",
              "      <th>7094</th>\n",
              "      <td>ffffd67df.jpg</td>\n",
              "      <td>3</td>\n",
              "      <td>30931 43 31103 127 31275 211 31489 253 31745 2...</td>\n",
              "    </tr>\n",
              "  </tbody>\n",
              "</table>\n",
              "<p>7095 rows × 3 columns</p>\n",
              "</div>"
            ],
            "text/plain": [
              "            ImageId  ClassId                                      EncodedPixels\n",
              "0     0002cc93b.jpg        1  29102 12 29346 24 29602 24 29858 24 30114 24 3...\n",
              "1     0007a71bf.jpg        3  18661 28 18863 82 19091 110 19347 110 19603 11...\n",
              "2     000a4bcdd.jpg        1  37607 3 37858 8 38108 14 38359 20 38610 25 388...\n",
              "3     000f6bf48.jpg        4  131973 1 132228 4 132483 6 132738 8 132993 11 ...\n",
              "4     0014fce06.jpg        3  229501 11 229741 33 229981 55 230221 77 230468...\n",
              "...             ...      ...                                                ...\n",
              "7090  ffcf72ecf.jpg        3  121911 34 122167 101 122422 169 122678 203 122...\n",
              "7091  fff02e9c5.jpg        3  207523 3 207777 9 208030 15 208283 22 208537 2...\n",
              "7092  fffe98443.jpg        3  105929 5 106177 14 106424 24 106672 33 106923 ...\n",
              "7093  ffff4eaa8.jpg        3  16899 7 17155 20 17411 34 17667 47 17923 60 18...\n",
              "7094  ffffd67df.jpg        3  30931 43 31103 127 31275 211 31489 253 31745 2...\n",
              "\n",
              "[7095 rows x 3 columns]"
            ]
          },
          "metadata": {
            "tags": []
          },
          "execution_count": 2
        }
      ]
    },
    {
      "cell_type": "code",
      "metadata": {
        "id": "VkI_W7hFKh2Q"
      },
      "source": [
        "def load(image_id):\n",
        "    \n",
        "    path = '/content/drive/MyDrive/Data_Metal/train_images/'\n",
        "    \n",
        "    image = plt.imread(path + image_id)\n",
        "    \n",
        "    label = np.zeros(256 * 1600)\n",
        "    \n",
        "    where = df['ImageId'] == image_id\n",
        "\n",
        "    for idx, (image_id, class_id, pixels) in df[where].iterrows():\n",
        "\n",
        "        pixels = pixels.split()\n",
        "        pixels = np.array(pixels, dtype=int)\n",
        "        pixels = pixels.reshape(-1, 2)\n",
        "\n",
        "        for start, length in pixels:\n",
        "            label[start:start + length] = class_id\n",
        "\n",
        "    label = label.reshape(256, 1600, order='F')\n",
        "    \n",
        "    return image, label"
      ],
      "execution_count": 3,
      "outputs": []
    },
    {
      "cell_type": "code",
      "metadata": {
        "colab": {
          "base_uri": "https://localhost:8080/",
          "height": 193
        },
        "id": "N6DHHlJhKh45",
        "outputId": "e2eea775-d3d7-421d-b13a-0aa60d969372"
      },
      "source": [
        "image_id = df.sample()['ImageId'].values[0]\n",
        "image, label = load(image_id)\n",
        "plt.imshow(image)\n",
        "plt.show()\n",
        "plt.imshow(label)\n",
        "plt.show()"
      ],
      "execution_count": 4,
      "outputs": [
        {
          "output_type": "display_data",
          "data": {
            "image/png": "[encoded data removed]",
            "text/plain": [
              "<Figure size 432x288 with 1 Axes>"
            ]
          },
          "metadata": {
            "tags": [],
            "needs_background": "light"
          }
        },
        {
          "output_type": "display_data",
          "data": {
            "image/png": "[encoded data removed]",
            "text/plain": [
              "<Figure size 432x288 with 1 Axes>"
            ]
          },
          "metadata": {
            "tags": [],
            "needs_background": "light"
          }
        }
      ]
    },
    {
      "cell_type": "code",
      "metadata": {
        "id": "0jOjA9fVKh8G"
      },
      "source": [
        "def f1_score(y_true, y_pred, c):\n",
        "    \n",
        "    y_pred = tf.argmax(y_pred, axis=-1)\n",
        "\n",
        "    pred = tf.cast(y_pred == c, dtype=tf.float32)\n",
        "    true = tf.cast(y_true == c, dtype=tf.float32)\n",
        "\n",
        "    tp = tf.reduce_sum(pred * true)\n",
        "    fp = tf.reduce_sum(pred * (1 - true))\n",
        "    fn = tf.reduce_sum((1 - pred) * true)\n",
        "\n",
        "    return tp / (tp + 0.5 * (fp + fn))\n",
        "\n",
        "\n",
        "def f1_0(y_true, y_pred):\n",
        "    return f1_score(y_true, y_pred, 0)\n",
        "\n",
        "def f1_1(y_true, y_pred):\n",
        "    return f1_score(y_true, y_pred, 1)\n",
        "\n",
        "def f1_2(y_true, y_pred):\n",
        "    return f1_score(y_true, y_pred, 2)\n",
        "\n",
        "def f1_3(y_true, y_pred):\n",
        "    return f1_score(y_true, y_pred, 3)\n",
        "\n",
        "def f1_4(y_true, y_pred):\n",
        "    return f1_score(y_true, y_pred, 4)"
      ],
      "execution_count": 5,
      "outputs": []
    },
    {
      "cell_type": "code",
      "metadata": {
        "colab": {
          "base_uri": "https://localhost:8080/"
        },
        "id": "cEBKnrjAKh-U",
        "outputId": "88f8722f-94b9-47b8-8b01-ed15e7582a92"
      },
      "source": [
        "tf.keras.backend.clear_session()\n",
        "model = tf.keras.Sequential([\n",
        "    tf.keras.layers.Input((256, 1600, 3)),\n",
        "    tf.keras.layers.Conv2D(16, (5, 5), strides=2, padding='same', activation='relu'),\n",
        "    tf.keras.layers.BatchNormalization(),\n",
        "    tf.keras.layers.Conv2D(32, (5, 5), strides=2, padding='same', activation='relu'),\n",
        "    tf.keras.layers.BatchNormalization(),\n",
        "    tf.keras.layers.Conv2D(64, (5, 5), strides=2, padding='same', activation='relu'),\n",
        "    tf.keras.layers.BatchNormalization(),\n",
        "    tf.keras.layers.UpSampling2D(8),\n",
        "    tf.keras.layers.Conv2D(5, (5, 5), padding='same', activation='softmax'),\n",
        "])\n",
        "metrics = [f1_0, f1_1, f1_2, f1_3, f1_4]\n",
        "model.compile(optimizer='adam', loss='sparse_categorical_crossentropy', metrics=metrics, loss_weights=[0.001, 1, 1, 1, 1])\n",
        "model.summary()"
      ],
      "execution_count": 6,
      "outputs": [
        {
          "output_type": "stream",
          "text": [
            "WARNING:tensorflow:Please add `keras.layers.InputLayer` instead of `keras.Input` to Sequential model. `keras.Input` is intended to be used by Functional model.\n",
            "Model: \"sequential\"\n",
            "_________________________________________________________________\n",
            "Layer (type)                 Output Shape              Param #   \n",
            "=================================================================\n",
            "conv2d (Conv2D)              (None, 128, 800, 16)      1216      \n",
            "_________________________________________________________________\n",
            "batch_normalization (BatchNo (None, 128, 800, 16)      64        \n",
            "_________________________________________________________________\n",
            "conv2d_1 (Conv2D)            (None, 64, 400, 32)       12832     \n",
            "_________________________________________________________________\n",
            "batch_normalization_1 (Batch (None, 64, 400, 32)       128       \n",
            "_________________________________________________________________\n",
            "conv2d_2 (Conv2D)            (None, 32, 200, 64)       51264     \n",
            "_________________________________________________________________\n",
            "batch_normalization_2 (Batch (None, 32, 200, 64)       256       \n",
            "_________________________________________________________________\n",
            "up_sampling2d (UpSampling2D) (None, 256, 1600, 64)     0         \n",
            "_________________________________________________________________\n",
            "conv2d_3 (Conv2D)            (None, 256, 1600, 5)      8005      \n",
            "=================================================================\n",
            "Total params: 73,765\n",
            "Trainable params: 73,541\n",
            "Non-trainable params: 224\n",
            "_________________________________________________________________\n"
          ],
          "name": "stdout"
        }
      ]
    },
    {
      "cell_type": "code",
      "metadata": {
        "colab": {
          "base_uri": "https://localhost:8080/"
        },
        "id": "cr7IMxYFKiAk",
        "outputId": "767baab6-a991-4305-d730-3e58b5f5ed56"
      },
      "source": [
        "class UNet(tf.keras.Model):\n",
        "    \n",
        "    def __init__(self):\n",
        "        super(UNet, self).__init__()\n",
        "        \n",
        "        # Pooling Layers.\n",
        "        self.maxpool = tf.keras.layers.MaxPool2D()\n",
        "        \n",
        "        # Convolution Layers.\n",
        "        self.conv1 = tf.keras.layers.Conv2D(16, (3, 3), padding='same', activation='relu')\n",
        "        self.conv2 = tf.keras.layers.Conv2D(16, (3, 3), padding='same', activation='relu')\n",
        "        self.conv3 = tf.keras.layers.Conv2D(32, (3, 3), padding='same', activation='relu')\n",
        "        self.conv4 = tf.keras.layers.Conv2D(32, (3, 3), padding='same', activation='relu')\n",
        "        self.conv5 = tf.keras.layers.Conv2D(64, (3, 3), padding='same', activation='relu')\n",
        "        self.conv6 = tf.keras.layers.Conv2D(64, (3, 3), padding='same', activation='relu')\n",
        "        self.conv7 = tf.keras.layers.Conv2D(128, (3, 3), padding='same', activation='relu')\n",
        "        self.conv8 = tf.keras.layers.Conv2D(128, (3, 3), padding='same', activation='relu')\n",
        "        self.conv9 = tf.keras.layers.Conv2D(256, (3, 3), padding='same', activation='relu')\n",
        "        self.conv10 = tf.keras.layers.Conv2D(256, (3, 3), padding='same', activation='relu')\n",
        "        self.conv11 = tf.keras.layers.Conv2D(128, (3, 3), padding='same', activation='relu')\n",
        "        self.conv12 = tf.keras.layers.Conv2D(128, (3, 3), padding='same', activation='relu')\n",
        "        self.conv13 = tf.keras.layers.Conv2D(64, (3, 3), padding='same', activation='relu')\n",
        "        self.conv14 = tf.keras.layers.Conv2D(64, (3, 3), padding='same', activation='relu')\n",
        "        self.conv15 = tf.keras.layers.Conv2D(32, (3, 3), padding='same', activation='relu')\n",
        "        self.conv16 = tf.keras.layers.Conv2D(32, (3, 3), padding='same', activation='relu')\n",
        "        self.conv17 = tf.keras.layers.Conv2D(16, (3, 3), padding='same', activation='relu')\n",
        "        self.conv18 = tf.keras.layers.Conv2D(16, (3, 3), padding='same', activation='relu')\n",
        "\n",
        "        # Transposed Convolution Layers.\n",
        "        self.upconv1 = tf.keras.layers.Conv2DTranspose(128, (2, 2), strides=2, padding='same', activation='relu')\n",
        "        self.upconv2 = tf.keras.layers.Conv2DTranspose(64, (2, 2), strides=2, padding='same', activation='relu')\n",
        "        self.upconv3 = tf.keras.layers.Conv2DTranspose(32, (2, 2), strides=2, padding='same', activation='relu')\n",
        "        self.upconv4 = tf.keras.layers.Conv2DTranspose(16, (2, 2), strides=2, padding='same', activation='relu')\n",
        "        self.upconv5 = tf.keras.layers.Conv2DTranspose(5, (2, 2), strides=2, padding='same', activation='softmax')\n",
        "        \n",
        "        # Batch Normalization Layers.\n",
        "        self.bn1 = tf.keras.layers.BatchNormalization()\n",
        "        self.bn2 = tf.keras.layers.BatchNormalization()\n",
        "        self.bn3 = tf.keras.layers.BatchNormalization()\n",
        "        self.bn4 = tf.keras.layers.BatchNormalization()\n",
        "        self.bn5 = tf.keras.layers.BatchNormalization()\n",
        "        self.bn6 = tf.keras.layers.BatchNormalization()\n",
        "        self.bn7 = tf.keras.layers.BatchNormalization()\n",
        "        self.bn8 = tf.keras.layers.BatchNormalization()\n",
        "        self.bn9 = tf.keras.layers.BatchNormalization()\n",
        "        self.bn10 = tf.keras.layers.BatchNormalization()\n",
        "        self.bn11 = tf.keras.layers.BatchNormalization()\n",
        "        self.bn12 = tf.keras.layers.BatchNormalization()\n",
        "        self.bn13 = tf.keras.layers.BatchNormalization()\n",
        "        self.bn14 = tf.keras.layers.BatchNormalization()\n",
        "        self.bn15 = tf.keras.layers.BatchNormalization()\n",
        "        self.bn16 = tf.keras.layers.BatchNormalization()\n",
        "        self.bn17 = tf.keras.layers.BatchNormalization()\n",
        "        self.bn18 = tf.keras.layers.BatchNormalization()\n",
        "        \n",
        "    def call(self, x, training=False):\n",
        "        \n",
        "        x = x / 255\n",
        "        \n",
        "        x = self.bn1(self.conv1(x), training)\n",
        "        x = self.bn2(self.conv2(x), training)\n",
        "        x_2 = x\n",
        "        \n",
        "        x = self.maxpool(x)\n",
        "        x = self.bn3(self.conv3(x), training)\n",
        "        x = self.bn4(self.conv4(x), training)\n",
        "        x_4 = x\n",
        "        \n",
        "        x = self.maxpool(x)\n",
        "        x = self.bn5(self.conv5(x), training)\n",
        "        x = self.bn6(self.conv6(x), training)\n",
        "        x_6 = x\n",
        "        \n",
        "        x = self.maxpool(x)\n",
        "        x = self.bn7(self.conv7(x), training)\n",
        "        x = self.bn8(self.conv8(x), training)\n",
        "        x_8 = x\n",
        "        \n",
        "        x = self.maxpool(x)\n",
        "        x = self.bn9(self.conv9(x), training)\n",
        "        x = self.bn10(self.conv10(x), training)\n",
        "        \n",
        "        x = self.upconv1(x)\n",
        "        x = tf.concat([x, x_8], axis=-1)\n",
        "\n",
        "        x = self.bn11(self.conv11(x), training)\n",
        "        x = self.bn12(self.conv12(x), training)\n",
        "        \n",
        "        x = self.upconv2(x)\n",
        "        x = tf.concat([x, x_6], axis=-1)\n",
        "        \n",
        "        x = self.bn13(self.conv13(x), training)\n",
        "        x = self.bn14(self.conv14(x), training)\n",
        "        \n",
        "        x = self.upconv3(x)\n",
        "        x = tf.concat([x, x_4], axis=-1)\n",
        "        \n",
        "        x = self.bn15(self.conv15(x), training)\n",
        "        x = self.bn16(self.conv16(x), training)\n",
        "        \n",
        "        x = self.upconv4(x)\n",
        "        x = tf.concat([x, x_2], axis=-1)\n",
        "        \n",
        "        x = self.bn17(self.conv17(x), training)\n",
        "        x = self.bn18(self.conv18(x), training)\n",
        "        \n",
        "        x = self.upconv5(x)\n",
        "        \n",
        "        return x\n",
        "\n",
        "\n",
        "tf.keras.backend.clear_session()\n",
        "model = UNet()\n",
        "metrics = [f1_0, f1_1, f1_2, f1_3, f1_4]\n",
        "model.compile(optimizer='adam', loss='sparse_categorical_crossentropy', metrics=metrics, loss_weights=[0.0001, 1, 1, 1, 1])\n",
        "model.build(input_shape=(None, 128, 800, 3))\n",
        "model.summary()\n",
        "model(np.random.randn(10, 128, 800, 3)).shape"
      ],
      "execution_count": 7,
      "outputs": [
        {
          "output_type": "stream",
          "text": [
            "Model: \"u_net\"\n",
            "_________________________________________________________________\n",
            "Layer (type)                 Output Shape              Param #   \n",
            "=================================================================\n",
            "max_pooling2d (MaxPooling2D) multiple                  0         \n",
            "_________________________________________________________________\n",
            "conv2d (Conv2D)              multiple                  448       \n",
            "_________________________________________________________________\n",
            "conv2d_1 (Conv2D)            multiple                  2320      \n",
            "_________________________________________________________________\n",
            "conv2d_2 (Conv2D)            multiple                  4640      \n",
            "_________________________________________________________________\n",
            "conv2d_3 (Conv2D)            multiple                  9248      \n",
            "_________________________________________________________________\n",
            "conv2d_4 (Conv2D)            multiple                  18496     \n",
            "_________________________________________________________________\n",
            "conv2d_5 (Conv2D)            multiple                  36928     \n",
            "_________________________________________________________________\n",
            "conv2d_6 (Conv2D)            multiple                  73856     \n",
            "_________________________________________________________________\n",
            "conv2d_7 (Conv2D)            multiple                  147584    \n",
            "_________________________________________________________________\n",
            "conv2d_8 (Conv2D)            multiple                  295168    \n",
            "_________________________________________________________________\n",
            "conv2d_9 (Conv2D)            multiple                  590080    \n",
            "_________________________________________________________________\n",
            "conv2d_10 (Conv2D)           multiple                  295040    \n",
            "_________________________________________________________________\n",
            "conv2d_11 (Conv2D)           multiple                  147584    \n",
            "_________________________________________________________________\n",
            "conv2d_12 (Conv2D)           multiple                  73792     \n",
            "_________________________________________________________________\n",
            "conv2d_13 (Conv2D)           multiple                  36928     \n",
            "_________________________________________________________________\n",
            "conv2d_14 (Conv2D)           multiple                  18464     \n",
            "_________________________________________________________________\n",
            "conv2d_15 (Conv2D)           multiple                  9248      \n",
            "_________________________________________________________________\n",
            "conv2d_16 (Conv2D)           multiple                  4624      \n",
            "_________________________________________________________________\n",
            "conv2d_17 (Conv2D)           multiple                  2320      \n",
            "_________________________________________________________________\n",
            "conv2d_transpose (Conv2DTran multiple                  131200    \n",
            "_________________________________________________________________\n",
            "conv2d_transpose_1 (Conv2DTr multiple                  32832     \n",
            "_________________________________________________________________\n",
            "conv2d_transpose_2 (Conv2DTr multiple                  8224      \n",
            "_________________________________________________________________\n",
            "conv2d_transpose_3 (Conv2DTr multiple                  2064      \n",
            "_________________________________________________________________\n",
            "conv2d_transpose_4 (Conv2DTr multiple                  325       \n",
            "_________________________________________________________________\n",
            "batch_normalization (BatchNo multiple                  64        \n",
            "_________________________________________________________________\n",
            "batch_normalization_1 (Batch multiple                  64        \n",
            "_________________________________________________________________\n",
            "batch_normalization_2 (Batch multiple                  128       \n",
            "_________________________________________________________________\n",
            "batch_normalization_3 (Batch multiple                  128       \n",
            "_________________________________________________________________\n",
            "batch_normalization_4 (Batch multiple                  256       \n",
            "_________________________________________________________________\n",
            "batch_normalization_5 (Batch multiple                  256       \n",
            "_________________________________________________________________\n",
            "batch_normalization_6 (Batch multiple                  512       \n",
            "_________________________________________________________________\n",
            "batch_normalization_7 (Batch multiple                  512       \n",
            "_________________________________________________________________\n",
            "batch_normalization_8 (Batch multiple                  1024      \n",
            "_________________________________________________________________\n",
            "batch_normalization_9 (Batch multiple                  1024      \n",
            "_________________________________________________________________\n",
            "batch_normalization_10 (Batc multiple                  512       \n",
            "_________________________________________________________________\n",
            "batch_normalization_11 (Batc multiple                  512       \n",
            "_________________________________________________________________\n",
            "batch_normalization_12 (Batc multiple                  256       \n",
            "_________________________________________________________________\n",
            "batch_normalization_13 (Batc multiple                  256       \n",
            "_________________________________________________________________\n",
            "batch_normalization_14 (Batc multiple                  128       \n",
            "_________________________________________________________________\n",
            "batch_normalization_15 (Batc multiple                  128       \n",
            "_________________________________________________________________\n",
            "batch_normalization_16 (Batc multiple                  64        \n",
            "_________________________________________________________________\n",
            "batch_normalization_17 (Batc multiple                  64        \n",
            "=================================================================\n",
            "Total params: 1,947,301\n",
            "Trainable params: 1,944,357\n",
            "Non-trainable params: 2,944\n",
            "_________________________________________________________________\n"
          ],
          "name": "stdout"
        },
        {
          "output_type": "execute_result",
          "data": {
            "text/plain": [
              "TensorShape([10, 256, 1600, 5])"
            ]
          },
          "metadata": {
            "tags": []
          },
          "execution_count": 7
        }
      ]
    },
    {
      "cell_type": "code",
      "metadata": {
        "id": "cMgkzIY6KiDx"
      },
      "source": [
        "ids = df['ImageId']\n",
        "ids = ids.drop_duplicates()\n",
        "\n",
        "ids_train = ids.sample(frac=0.8)\n",
        "ids_valid = ids.drop(index=ids_train.index)"
      ],
      "execution_count": 8,
      "outputs": []
    },
    {
      "cell_type": "code",
      "metadata": {
        "id": "d4V_JNxfKiFu"
      },
      "source": [
        "def gen(ids, batch_size):\n",
        "    ids = ids.values\n",
        "\n",
        "    while True:\n",
        "\n",
        "        np.random.shuffle(ids)\n",
        "\n",
        "        for i in range(0, ids.shape[0], batch_size):\n",
        "\n",
        "            images = []\n",
        "            labels = [] \n",
        "\n",
        "            for image_id in ids[i:i + batch_size]:\n",
        "                image, label = load(image_id)\n",
        "                image = cv2.resize(image, (800, 128))\n",
        "                images.append(image)\n",
        "                labels.append(label)\n",
        "\n",
        "            images = np.array(images, copy=False)\n",
        "            labels = np.array(labels, copy=False)\n",
        "\n",
        "            yield images, labels"
      ],
      "execution_count": 9,
      "outputs": []
    },
    {
      "cell_type": "code",
      "metadata": {
        "colab": {
          "base_uri": "https://localhost:8080/"
        },
        "id": "Q-6GWZgaKiIK",
        "outputId": "03b3f720-d773-43f9-8003-dd40eb883f31"
      },
      "source": [
        "hist = model.fit(\n",
        "    # train dataset generator.\n",
        "    gen(ids_train, 64),\n",
        "    # valid dataset generator.\n",
        "    validation_data = gen(ids_valid, 128),\n",
        "    # number of steps for train set.\n",
        "    steps_per_epoch = np.ceil(ids_train.shape[0] / 64).astype('int'),\n",
        "    # number of steps for valid set.\n",
        "    validation_steps = np.ceil(ids_valid.shape[0] / 128).astype('int'),\n",
        "    # number of epochs.\n",
        "    epochs = 10\n",
        ")"
      ],
      "execution_count": null,
      "outputs": [
        {
          "output_type": "stream",
          "text": [
            "Epoch 1/10\n"
          ],
          "name": "stdout"
        }
      ]
    },
    {
      "cell_type": "markdown",
      "metadata": {
        "id": "d8jjKiD_id2T"
      },
      "source": [
        "Написать в презентацию сколько на валидацию и тренировку"
      ]
    },
    {
      "cell_type": "code",
      "metadata": {
        "id": "NpSJcHjoK0Wz"
      },
      "source": [
        "plt.title('F1 Score for each classes in validation set')\n",
        "plt.plot(hist.history['val_f1_0'], label='val_f1_0')\n",
        "plt.plot(hist.history['val_f1_1'], label='val_f1_1')\n",
        "plt.plot(hist.history['val_f1_2'], label='val_f1_2')\n",
        "plt.plot(hist.history['val_f1_3'], label='val_f1_3')\n",
        "plt.plot(hist.history['val_f1_4'], label='val_f1_4')\n",
        "plt.legend()\n",
        "plt.show()"
      ],
      "execution_count": null,
      "outputs": []
    },
    {
      "cell_type": "code",
      "metadata": {
        "id": "SgFRRViMUKDB"
      },
      "source": [
        "from tensorflow.keras.callbacks import ModelCheckpoint\n",
        "\n",
        "weights_file = 'weights.h5'\n",
        "callback = ModelCheckpoint(weights_file,\n",
        "              monitor='acc',\n",
        "              mode='max',\n",
        "              save_best_only=True)"
      ],
      "execution_count": null,
      "outputs": []
    },
    {
      "cell_type": "markdown",
      "metadata": {
        "id": "KVyKkAwPQPeB"
      },
      "source": [
        "Пример работы неронной сети на основе первой картинки из train выборки\n"
      ]
    },
    {
      "cell_type": "code",
      "metadata": {
        "id": "DrPF8KpLp-R-"
      },
      "source": [
        "image_id = df.sample()['ImageId'].values[0]\n",
        "image, label = load(image_id)\n",
        "plt.imshow(image)\n",
        "plt.show()\n",
        "plt.imshow(label)\n",
        "plt.show()"
      ],
      "execution_count": null,
      "outputs": []
    },
    {
      "cell_type": "code",
      "metadata": {
        "id": "tujHHpPcrdfv"
      },
      "source": [
        "print(image.shape)"
      ],
      "execution_count": null,
      "outputs": []
    },
    {
      "cell_type": "code",
      "metadata": {
        "id": "HiUsmEUSrEiF"
      },
      "source": [
        "def load_new_img(path):\n",
        "    \n",
        "    image = plt.imread(path)\n",
        "    size_img = image.shape[:2]\n",
        "    print(size_img)\n",
        "    image = cv2.resize(image, (800, 128))\n",
        "\n",
        "    pred = model(image[np.newaxis, ...])\n",
        "    #print(pred)\n",
        "    pred = np.argmax(pred, axis=-1)\n",
        "    print('+', image.shape, pred[0].shape)\n",
        "    #image = cv2.resize(image, size_img)\n",
        "    #pred_img = cv2.resize(pred[0], size_img)\n",
        "    print(image.shape, pred[0].shape)\n",
        "    fig, axs = plt.subplots(2, 1, figsize=[20, 10])\n",
        "    \n",
        "    axs[0].imshow(image)\n",
        "    #axs[1].imshow(label)\n",
        "    axs[1].imshow(pred[0])\n",
        "    fig.show()"
      ],
      "execution_count": null,
      "outputs": []
    },
    {
      "cell_type": "code",
      "metadata": {
        "id": "XrXgIRnQsqou"
      },
      "source": [
        "image = load_new_img('/content/post-28616-087717300 1368026780.jpg')"
      ],
      "execution_count": null,
      "outputs": []
    }
  ]
}